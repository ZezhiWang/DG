{
 "cells": [
  {
   "cell_type": "markdown",
   "metadata": {},
   "source": [
    "# Training Draft"
   ]
  },
  {
   "cell_type": "markdown",
   "metadata": {},
   "source": [
    "#### Xiao Xin"
   ]
  },
  {
   "cell_type": "markdown",
   "metadata": {},
   "source": [
    "## Runtime Analysis"
   ]
  },
  {
   "cell_type": "code",
   "execution_count": 1,
   "metadata": {
    "collapsed": true
   },
   "outputs": [],
   "source": [
    "import numpy as np\n",
    "\n",
    "from time import time\n",
    "from math import sqrt\n",
    "import matplotlib.pyplot as plt\n",
    "\n",
    "from process.c_process import parse_input as c_parse\n",
    "from process.py_process import parse_input as py_parse\n",
    "\n",
    "%matplotlib inline"
   ]
  },
  {
   "cell_type": "code",
   "execution_count": 2,
   "metadata": {
    "collapsed": true
   },
   "outputs": [],
   "source": [
    "SOURCE = './data/strokes.txt'\n",
    "ACCESS = 'r'\n",
    "GRAPH_TITLE = 'Comparison of Elapsed Runtime of C and Python Parser'\n",
    "X_LABEL = 'Input Size (records)'\n",
    "Y_LABEL = 'Time (ms)'"
   ]
  },
  {
   "cell_type": "code",
   "execution_count": 3,
   "metadata": {
    "collapsed": true
   },
   "outputs": [],
   "source": [
    "def collect_runtime_data():\n",
    "    c, py = [0], [0]\n",
    "    with open(SOURCE, ACCESS) as doc:\n",
    "        for line in doc:\n",
    "            line = line.strip()\n",
    "            \n",
    "            start_time = time()\n",
    "            c_parse(line, normalize=True, RDP=True)\n",
    "            end_time = time()\n",
    "            c.append(c[-1] + 1000 * (end_time - start_time))\n",
    "            \n",
    "            start_time = time()\n",
    "            py_parse(line, normalize=True, RDP=True)\n",
    "            end_time = time()\n",
    "            py.append(py[-1] + 1000 * (end_time - start_time))\n",
    "    return [c, py]"
   ]
  },
  {
   "cell_type": "code",
   "execution_count": 4,
   "metadata": {},
   "outputs": [
    {
     "data": {
      "image/png": "[encoded data removed]",
      "text/plain": [
       "<matplotlib.figure.Figure at 0x7f10ade59850>"
      ]
     },
     "metadata": {},
     "output_type": "display_data"
    }
   ],
   "source": [
    "c, py = collect_runtime_data()\n",
    "t = range(len(c))\n",
    "plt.xlabel(X_LABEL)\n",
    "plt.ylabel(Y_LABEL)\n",
    "plt.xticks(t)\n",
    "c_trend, = plt.plot(t, c, 'rs', label='C')\n",
    "py_trend, = plt.plot(t, py, 'b^', label='Python')\n",
    "plt.legend(handles=[c_trend, py_trend])\n",
    "plt.title(GRAPH_TITLE)\n",
    "plt.show()"
   ]
  },
  {
   "cell_type": "code",
   "execution_count": null,
   "metadata": {
    "collapsed": true
   },
   "outputs": [],
   "source": []
  }
 ],
 "metadata": {
  "kernelspec": {
   "display_name": "Python 2",
   "language": "python",
   "name": "python2"
  },
  "language_info": {
   "codemirror_mode": {
    "name": "ipython",
    "version": 2
   },
   "file_extension": ".py",
   "mimetype": "text/x-python",
   "name": "python",
   "nbconvert_exporter": "python",
   "pygments_lexer": "ipython2",
   "version": "2.7.13"
  }
 },
 "nbformat": 4,
 "nbformat_minor": 2
}
